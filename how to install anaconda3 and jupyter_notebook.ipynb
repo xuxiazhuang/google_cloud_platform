{
 "cells": [
  {
   "cell_type": "markdown",
   "metadata": {},
   "source": [
    "# How to install Jupyter Notebook"
   ]
  },
  {
   "cell_type": "markdown",
   "metadata": {},
   "source": [
    "install ananconda3"
   ]
  },
  {
   "cell_type": "markdown",
   "metadata": {},
   "source": [
    "We run the following commands to update system packages and the core dependencies for Anaconda.\n",
    "\n",
    "bzip2 , to install Mini/Anaconda\n",
    "libxml2-dev, to install further Python libraries\n",
    "libxml2-dev, to install further Python libraries"
   ]
  },
  {
   "cell_type": "markdown",
   "metadata": {},
   "source": [
    "$sudo apt-get update"
   ]
  },
  {
   "cell_type": "markdown",
   "metadata": {},
   "source": [
    "$sudo apt-get install bzip2 libxml2-dev"
   ]
  },
  {
   "cell_type": "markdown",
   "metadata": {},
   "source": [
    "To install a full Anaconda distribution"
   ]
  },
  {
   "cell_type": "markdown",
   "metadata": {},
   "source": [
    "$ wget https://repo.anaconda.com/archive/Anaconda3-2018.12-Linux-x86_64.sh"
   ]
  },
  {
   "cell_type": "markdown",
   "metadata": {},
   "source": [
    "$ bash Anaconda3–2018.12-Linux-x86_64.sh"
   ]
  },
  {
   "cell_type": "markdown",
   "metadata": {},
   "source": [
    "After installation has completed, we can remove the shell script to save disk space."
   ]
  },
  {
   "cell_type": "markdown",
   "metadata": {},
   "source": [
    "$ rm Anaconda3–2018.12-Linux-x86_64.sh"
   ]
  },
  {
   "cell_type": "markdown",
   "metadata": {},
   "source": [
    "$ source .bahsrc"
   ]
  },
  {
   "cell_type": "markdown",
   "metadata": {},
   "source": [
    "To verify that everything is installed properly."
   ]
  },
  {
   "cell_type": "markdown",
   "metadata": {},
   "source": [
    "$ python --version\n",
    "\n",
    "$ which python\n",
    "\n",
    "$ which conda\n"
   ]
  },
  {
   "cell_type": "markdown",
   "metadata": {},
   "source": [
    "# install jupyter notebook"
   ]
  },
  {
   "cell_type": "markdown",
   "metadata": {},
   "source": [
    "##Generate a Jupyter configuration file:\n",
    "\n",
    "\n",
    "$ jupyter notebook --generate-config"
   ]
  },
  {
   "cell_type": "markdown",
   "metadata": {},
   "source": [
    "##Choose a password:\n",
    "\n",
    "$ jupyter notebook password"
   ]
  },
  {
   "cell_type": "markdown",
   "metadata": {},
   "source": [
    "##get the jupyter password (not the password we set)\n",
    "##<username> : xz9\n",
    "    \n",
    "$ more /home/<username> /.jupyter/jupyter_notebook_config.json\n"
   ]
  },
  {
   "cell_type": "markdown",
   "metadata": {},
   "source": [
    "###Now edit the file:\n",
    "\n",
    "nano ./.jupyter/jupyter_notebook_config.py"
   ]
  },
  {
   "cell_type": "markdown",
   "metadata": {},
   "source": [
    "####if nano doesn't work\n",
    "\n",
    "$ apt-get install nano"
   ]
  },
  {
   "cell_type": "markdown",
   "metadata": {},
   "source": [
    "the formate should be c.NotebookApp.ip = '*'"
   ]
  },
  {
   "cell_type": "markdown",
   "metadata": {},
   "source": [
    "#Ctrl + w  .password   enter, add  the password and erase the hash\n",
    "#Ctrl + w  .port   enter, add  the port 5000\n",
    "#Ctrl + w  .ip   enter, add  *\n",
    "#Ctrl + o to save, then press 'enter'\n",
    "#Ctrl x,to exit"
   ]
  },
  {
   "cell_type": "markdown",
   "metadata": {},
   "source": [
    "##run jupyter notebook\n",
    "\n",
    "\n",
    "jupyter-notebook --no-browser --port=5000"
   ]
  },
  {
   "cell_type": "markdown",
   "metadata": {},
   "source": [
    "##Want Jupyter notebook to run in background? Use & at the end."
   ]
  },
  {
   "cell_type": "markdown",
   "metadata": {},
   "source": [
    "####Then back to the instance, the eaternal address + 5000 \n"
   ]
  },
  {
   "cell_type": "code",
   "execution_count": 5,
   "metadata": {},
   "outputs": [],
   "source": []
  },
  {
   "cell_type": "code",
   "execution_count": null,
   "metadata": {},
   "outputs": [],
   "source": []
  }
 ],
 "metadata": {
  "kernelspec": {
   "display_name": "Python 3",
   "language": "python",
   "name": "python3"
  },
  "language_info": {
   "codemirror_mode": {
    "name": "ipython",
    "version": 3
   },
   "file_extension": ".py",
   "mimetype": "text/x-python",
   "name": "python",
   "nbconvert_exporter": "python",
   "pygments_lexer": "ipython3",
   "version": "3.6.8"
  }
 },
 "nbformat": 4,
 "nbformat_minor": 2
}
